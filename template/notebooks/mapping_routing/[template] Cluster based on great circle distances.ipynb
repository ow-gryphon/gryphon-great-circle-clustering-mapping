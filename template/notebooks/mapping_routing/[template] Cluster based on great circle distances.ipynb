{
 "cells": [
  {
   "cell_type": "markdown",
   "id": "cdbbbee7",
   "metadata": {},
   "source": [
    "<div class=\"alert alert-danger\" role=\"alert\">\n",
    "    <span style=\"font-size:20px\">&#9888;</span> <span style=\"font-size:16px\">This is a read-only notebook! If you want to make and save changes, save a copy by clicking on <b>File</b> &#8594; <b>Save a copy</b>. If this is already a copy, you can delete this cell.</span>\n",
    "</div>"
   ]
  },
  {
   "cell_type": "markdown",
   "id": "311ddece",
   "metadata": {},
   "source": [
    "<h1>Using Great Circle distance and clustering to find nearby locations<span class=\"tocSkip\"></span></h1>\n",
    "\n",
    "This notebook helps calculates great circle distances between all pairs of locations, and then runs hierarchical clustering to identify clusters of locatoins. This uses Latitude and Longitude information -- if you only have street addresses, you need to geocode them, see the HERE Maps API for examples. \n",
    "\n",
    "The distance calculations functions are defined within the notebook. In future versions, we will move them to the utilities folder into re-usable .py files.\n",
    "\n",
    "For questions, email daniel.wang@oliverwyman.com\n",
    "\n"
   ]
  },
  {
   "cell_type": "markdown",
   "id": "bb3ce6d4",
   "metadata": {},
   "source": [
    "<h1>Table of Contents<span class=\"tocSkip\"></span></h1>\n",
    "\n",
    "<ul class=\"toc-item\"><li><span><a href=\"#Load-in-dataset\" data-toc-modified-id=\"Load-in-dataset-1\"><span class=\"toc-item-num\">1&nbsp;&nbsp;</span>Load in dataset</a></span></li><li><span><a href=\"#Calculate-Great-Circle-distance-matrix\" data-toc-modified-id=\"Calculate-Great-Circle-distance-matrix-2\"><span class=\"toc-item-num\">2&nbsp;&nbsp;</span>Calculate Great Circle distance matrix</a></span></li><li><span><a href=\"#Convert-into-a-distance-matrix\" data-toc-modified-id=\"Convert-into-a-distance-matrix-3\"><span class=\"toc-item-num\">3&nbsp;&nbsp;</span>Convert into a distance matrix</a></span></li><li><span><a href=\"#Run-hierarchical-clustering\" data-toc-modified-id=\"Run-hierarchical-clustering-4\"><span class=\"toc-item-num\">4&nbsp;&nbsp;</span>Run hierarchical clustering</a></span><ul class=\"toc-item\"><li><span><a href=\"#Convert-into-a-condensed-distance-vector\" data-toc-modified-id=\"Convert-into-a-condensed-distance-vector-4.1\"><span class=\"toc-item-num\">4.1&nbsp;&nbsp;</span>Convert into a condensed distance vector</a></span></li><li><span><a href=\"#Run-hierarchical-clustering\" data-toc-modified-id=\"Run-hierarchical-clustering-4.2\"><span class=\"toc-item-num\">4.2&nbsp;&nbsp;</span>Run hierarchical clustering</a></span></li></ul></li><li><span><a href=\"#Examine-cluster-outputs\" data-toc-modified-id=\"Examine-cluster-outputs-5\"><span class=\"toc-item-num\">5&nbsp;&nbsp;</span>Examine cluster outputs</a></span><ul class=\"toc-item\"><li><span><a href=\"#Get-cluster-assignment-for-each-item\" data-toc-modified-id=\"Get-cluster-assignment-for-each-item-5.1\"><span class=\"toc-item-num\">5.1&nbsp;&nbsp;</span>Get cluster assignment for each item</a></span></li><li><span><a href=\"#Merge-in-the-lat-longs-and-names\" data-toc-modified-id=\"Merge-in-the-lat-longs-and-names-5.2\"><span class=\"toc-item-num\">5.2&nbsp;&nbsp;</span>Merge in the lat longs and names</a></span></li><li><span><a href=\"#Plot-on-a-grid\" data-toc-modified-id=\"Plot-on-a-grid-5.3\"><span class=\"toc-item-num\">5.3&nbsp;&nbsp;</span>Plot on a grid</a></span></li><li><span><a href=\"#Plot-on-a-map\" data-toc-modified-id=\"Plot-on-a-map-5.4\"><span class=\"toc-item-num\">5.4&nbsp;&nbsp;</span>Plot on a map</a></span></li></ul></li></ul>"
   ]
  },
  {
   "cell_type": "code",
   "execution_count": 4,
   "id": "8f101827",
   "metadata": {},
   "outputs": [],
   "source": [
    "import pandas as pd\n",
    "import numpy as np\n",
    "import scipy as sc\n",
    "import matplotlib.pyplot as plt"
   ]
  },
  {
   "cell_type": "markdown",
   "id": "2c314beb",
   "metadata": {},
   "source": [
    "# Load in dataset"
   ]
  },
  {
   "cell_type": "code",
   "execution_count": 5,
   "id": "5e8850e3",
   "metadata": {},
   "outputs": [],
   "source": [
    "dataset = pd.read_csv(\"campsites.csv\")"
   ]
  },
  {
   "cell_type": "code",
   "execution_count": 6,
   "id": "82a43290",
   "metadata": {},
   "outputs": [
    {
     "data": {
      "text/html": [
       "<div>\n",
       "<style scoped>\n",
       "    .dataframe tbody tr th:only-of-type {\n",
       "        vertical-align: middle;\n",
       "    }\n",
       "\n",
       "    .dataframe tbody tr th {\n",
       "        vertical-align: top;\n",
       "    }\n",
       "\n",
       "    .dataframe thead th {\n",
       "        text-align: right;\n",
       "    }\n",
       "</style>\n",
       "<table border=\"1\" class=\"dataframe\">\n",
       "  <thead>\n",
       "    <tr style=\"text-align: right;\">\n",
       "      <th></th>\n",
       "      <th>FacilityID</th>\n",
       "      <th>CampsiteName</th>\n",
       "      <th>CampsiteLongitude</th>\n",
       "      <th>CampsiteLatitude</th>\n",
       "    </tr>\n",
       "  </thead>\n",
       "  <tbody>\n",
       "    <tr>\n",
       "      <th>0</th>\n",
       "      <td>232446</td>\n",
       "      <td>65</td>\n",
       "      <td>-119.683914</td>\n",
       "      <td>37.550125</td>\n",
       "    </tr>\n",
       "    <tr>\n",
       "      <th>1</th>\n",
       "      <td>232447</td>\n",
       "      <td>44</td>\n",
       "      <td>-119.565040</td>\n",
       "      <td>37.737625</td>\n",
       "    </tr>\n",
       "    <tr>\n",
       "      <th>2</th>\n",
       "      <td>232451</td>\n",
       "      <td>78</td>\n",
       "      <td>-119.866541</td>\n",
       "      <td>37.799589</td>\n",
       "    </tr>\n",
       "    <tr>\n",
       "      <th>3</th>\n",
       "      <td>232709</td>\n",
       "      <td>9</td>\n",
       "      <td>-97.264983</td>\n",
       "      <td>31.586164</td>\n",
       "    </tr>\n",
       "    <tr>\n",
       "      <th>4</th>\n",
       "      <td>251938</td>\n",
       "      <td>32</td>\n",
       "      <td>-84.485965</td>\n",
       "      <td>35.076028</td>\n",
       "    </tr>\n",
       "  </tbody>\n",
       "</table>\n",
       "</div>"
      ],
      "text/plain": [
       "   FacilityID CampsiteName  CampsiteLongitude  CampsiteLatitude\n",
       "0      232446           65        -119.683914         37.550125\n",
       "1      232447           44        -119.565040         37.737625\n",
       "2      232451           78        -119.866541         37.799589\n",
       "3      232709            9         -97.264983         31.586164\n",
       "4      251938           32         -84.485965         35.076028"
      ]
     },
     "execution_count": 6,
     "metadata": {},
     "output_type": "execute_result"
    }
   ],
   "source": [
    "dataset.head()"
   ]
  },
  {
   "cell_type": "markdown",
   "id": "7a1b409f",
   "metadata": {},
   "source": [
    "# Calculate Great Circle distance matrix"
   ]
  },
  {
   "cell_type": "code",
   "execution_count": 7,
   "id": "2282bf8d",
   "metadata": {},
   "outputs": [],
   "source": [
    "# Generic function for calculating great circle distance, vectorized\n",
    "def great_circle_distance(lon1, lat1, lon2, lat2, unit='miles'):\n",
    "    \"\"\"    \n",
    "    Calculate the great circle distance between two points\n",
    "    on the earth (specified in decimal degrees)\n",
    "    \"\"\"\n",
    "\n",
    "    # convert decimal degrees to radians    \n",
    "    lon1, lat1, lon2, lat2 = map(np.radians, [lon1, lat1, lon2, lat2])    # haversine formula    \n",
    "    dlon = lon2 - lon1    \n",
    "    dlat = lat2 - lat1    \n",
    "    a = np.sin(dlat/2)**2 + np.cos(lat1) * np.cos(lat2) * np.sin(dlon/2)**2    \n",
    "    c = 2 * np.arcsin(np.sqrt(a))    \n",
    "    \n",
    "    if unit in [\"miles\", \"mile\"]:\n",
    "        r = 3958.756 # Radius of earth in miles\n",
    "    elif unit in [\"km\", \"kilometer\", \"kilometers\"]:\n",
    "        r = 6371.0 # Radius of earth in kms\n",
    "\n",
    "    return c * r\n",
    "\n",
    "# Function for getting closest distance only.  \n",
    "def get_all_distances(origin, targets, lon_column=\"Lon\", lat_column=\"Lat\", unit='miles', append_origin=False):\n",
    "    \"\"\"\n",
    "    Great circle distance between an origin (single row in dataframe) and a dataframe with target destinations. \n",
    "    lon_column is the column name containing Longitude\n",
    "    lat_column is the column name containing Latitude\n",
    "    append_origin should be true to add the origin information\n",
    "    \"\"\"\n",
    "    \n",
    "    targets = targets.copy()\n",
    "    \n",
    "    targets['great_circle_distance'] = great_circle_distance(origin[lon_column], origin[lat_column], \n",
    "                                                             targets[lon_column], targets[lat_column])\n",
    "    \n",
    "    \n",
    "    if append_origin:\n",
    "        for col in origin.index:\n",
    "            targets[\"Origin: {}\".format(col)] = origin[col]\n",
    "\n",
    "    return targets\n",
    "\n"
   ]
  },
  {
   "cell_type": "code",
   "execution_count": 8,
   "id": "017798b4",
   "metadata": {},
   "outputs": [
    {
     "name": "stdout",
     "output_type": "stream",
     "text": [
      "Processing 1 out of 1001 items\n",
      "Processing 101 out of 1001 items\n",
      "Processing 201 out of 1001 items\n",
      "Processing 301 out of 1001 items\n",
      "Processing 401 out of 1001 items\n",
      "Processing 501 out of 1001 items\n",
      "Processing 601 out of 1001 items\n",
      "Processing 701 out of 1001 items\n",
      "Processing 801 out of 1001 items\n",
      "Processing 901 out of 1001 items\n"
     ]
    }
   ],
   "source": [
    "output_list = []\n",
    "\n",
    "nrows = dataset.shape[0]\n",
    "for index, row in dataset.iterrows():\n",
    "    \n",
    "    if index % 100==0: print(\"Processing {} out of {} items\".format(index+1, nrows+1))\n",
    "    \n",
    "    result = get_all_distances(row, targets = dataset, lon_column=\"CampsiteLongitude\", lat_column=\"CampsiteLatitude\", unit='miles', append_origin=True)\n",
    "    \n",
    "    output_list.append(result)"
   ]
  },
  {
   "cell_type": "code",
   "execution_count": 9,
   "id": "c0ef73de",
   "metadata": {},
   "outputs": [],
   "source": [
    "distance_results = pd.concat(output_list)"
   ]
  },
  {
   "cell_type": "code",
   "execution_count": 10,
   "id": "7f12e8b2",
   "metadata": {},
   "outputs": [
    {
     "data": {
      "text/html": [
       "<div>\n",
       "<style scoped>\n",
       "    .dataframe tbody tr th:only-of-type {\n",
       "        vertical-align: middle;\n",
       "    }\n",
       "\n",
       "    .dataframe tbody tr th {\n",
       "        vertical-align: top;\n",
       "    }\n",
       "\n",
       "    .dataframe thead th {\n",
       "        text-align: right;\n",
       "    }\n",
       "</style>\n",
       "<table border=\"1\" class=\"dataframe\">\n",
       "  <thead>\n",
       "    <tr style=\"text-align: right;\">\n",
       "      <th></th>\n",
       "      <th>FacilityID</th>\n",
       "      <th>CampsiteName</th>\n",
       "      <th>CampsiteLongitude</th>\n",
       "      <th>CampsiteLatitude</th>\n",
       "      <th>great_circle_distance</th>\n",
       "      <th>Origin: FacilityID</th>\n",
       "      <th>Origin: CampsiteName</th>\n",
       "      <th>Origin: CampsiteLongitude</th>\n",
       "      <th>Origin: CampsiteLatitude</th>\n",
       "    </tr>\n",
       "  </thead>\n",
       "  <tbody>\n",
       "    <tr>\n",
       "      <th>0</th>\n",
       "      <td>232446</td>\n",
       "      <td>65</td>\n",
       "      <td>-119.683914</td>\n",
       "      <td>37.550125</td>\n",
       "      <td>0.000000</td>\n",
       "      <td>232446</td>\n",
       "      <td>65</td>\n",
       "      <td>-119.683914</td>\n",
       "      <td>37.550125</td>\n",
       "    </tr>\n",
       "    <tr>\n",
       "      <th>1</th>\n",
       "      <td>232447</td>\n",
       "      <td>44</td>\n",
       "      <td>-119.565040</td>\n",
       "      <td>37.737625</td>\n",
       "      <td>14.495795</td>\n",
       "      <td>232446</td>\n",
       "      <td>65</td>\n",
       "      <td>-119.683914</td>\n",
       "      <td>37.550125</td>\n",
       "    </tr>\n",
       "    <tr>\n",
       "      <th>2</th>\n",
       "      <td>232451</td>\n",
       "      <td>78</td>\n",
       "      <td>-119.866541</td>\n",
       "      <td>37.799589</td>\n",
       "      <td>19.920727</td>\n",
       "      <td>232446</td>\n",
       "      <td>65</td>\n",
       "      <td>-119.683914</td>\n",
       "      <td>37.550125</td>\n",
       "    </tr>\n",
       "    <tr>\n",
       "      <th>3</th>\n",
       "      <td>232709</td>\n",
       "      <td>9</td>\n",
       "      <td>-97.264983</td>\n",
       "      <td>31.586164</td>\n",
       "      <td>1336.584156</td>\n",
       "      <td>232446</td>\n",
       "      <td>65</td>\n",
       "      <td>-119.683914</td>\n",
       "      <td>37.550125</td>\n",
       "    </tr>\n",
       "    <tr>\n",
       "      <th>4</th>\n",
       "      <td>251938</td>\n",
       "      <td>32</td>\n",
       "      <td>-84.485965</td>\n",
       "      <td>35.076028</td>\n",
       "      <td>1955.668387</td>\n",
       "      <td>232446</td>\n",
       "      <td>65</td>\n",
       "      <td>-119.683914</td>\n",
       "      <td>37.550125</td>\n",
       "    </tr>\n",
       "  </tbody>\n",
       "</table>\n",
       "</div>"
      ],
      "text/plain": [
       "   FacilityID CampsiteName  CampsiteLongitude  CampsiteLatitude  \\\n",
       "0      232446           65        -119.683914         37.550125   \n",
       "1      232447           44        -119.565040         37.737625   \n",
       "2      232451           78        -119.866541         37.799589   \n",
       "3      232709            9         -97.264983         31.586164   \n",
       "4      251938           32         -84.485965         35.076028   \n",
       "\n",
       "   great_circle_distance  Origin: FacilityID Origin: CampsiteName  \\\n",
       "0               0.000000              232446                   65   \n",
       "1              14.495795              232446                   65   \n",
       "2              19.920727              232446                   65   \n",
       "3            1336.584156              232446                   65   \n",
       "4            1955.668387              232446                   65   \n",
       "\n",
       "   Origin: CampsiteLongitude  Origin: CampsiteLatitude  \n",
       "0                -119.683914                 37.550125  \n",
       "1                -119.683914                 37.550125  \n",
       "2                -119.683914                 37.550125  \n",
       "3                -119.683914                 37.550125  \n",
       "4                -119.683914                 37.550125  "
      ]
     },
     "execution_count": 10,
     "metadata": {},
     "output_type": "execute_result"
    }
   ],
   "source": [
    "distance_results.head()"
   ]
  },
  {
   "cell_type": "markdown",
   "id": "05875555",
   "metadata": {},
   "source": [
    "# Convert into a distance matrix"
   ]
  },
  {
   "cell_type": "code",
   "execution_count": 11,
   "id": "7d12c559",
   "metadata": {},
   "outputs": [],
   "source": [
    "distance_matrix = distance_results[['Origin: FacilityID', 'FacilityID', 'great_circle_distance']].pivot(index = 'Origin: FacilityID', columns='FacilityID', values='great_circle_distance')"
   ]
  },
  {
   "cell_type": "code",
   "execution_count": 12,
   "id": "046121b5",
   "metadata": {},
   "outputs": [
    {
     "data": {
      "text/html": [
       "<div>\n",
       "<style scoped>\n",
       "    .dataframe tbody tr th:only-of-type {\n",
       "        vertical-align: middle;\n",
       "    }\n",
       "\n",
       "    .dataframe tbody tr th {\n",
       "        vertical-align: top;\n",
       "    }\n",
       "\n",
       "    .dataframe thead th {\n",
       "        text-align: right;\n",
       "    }\n",
       "</style>\n",
       "<table border=\"1\" class=\"dataframe\">\n",
       "  <thead>\n",
       "    <tr style=\"text-align: right;\">\n",
       "      <th>FacilityID</th>\n",
       "      <th>15045</th>\n",
       "      <th>202155</th>\n",
       "      <th>231836</th>\n",
       "      <th>231837</th>\n",
       "      <th>231838</th>\n",
       "      <th>231840</th>\n",
       "      <th>231848</th>\n",
       "      <th>231852</th>\n",
       "      <th>231862</th>\n",
       "      <th>231864</th>\n",
       "      <th>...</th>\n",
       "      <th>10192122</th>\n",
       "      <th>10192127</th>\n",
       "      <th>10203811</th>\n",
       "      <th>10207636</th>\n",
       "      <th>10214673</th>\n",
       "      <th>10214711</th>\n",
       "      <th>10214735</th>\n",
       "      <th>10214768</th>\n",
       "      <th>10220609</th>\n",
       "      <th>10224635</th>\n",
       "    </tr>\n",
       "    <tr>\n",
       "      <th>Origin: FacilityID</th>\n",
       "      <th></th>\n",
       "      <th></th>\n",
       "      <th></th>\n",
       "      <th></th>\n",
       "      <th></th>\n",
       "      <th></th>\n",
       "      <th></th>\n",
       "      <th></th>\n",
       "      <th></th>\n",
       "      <th></th>\n",
       "      <th></th>\n",
       "      <th></th>\n",
       "      <th></th>\n",
       "      <th></th>\n",
       "      <th></th>\n",
       "      <th></th>\n",
       "      <th></th>\n",
       "      <th></th>\n",
       "      <th></th>\n",
       "      <th></th>\n",
       "      <th></th>\n",
       "    </tr>\n",
       "  </thead>\n",
       "  <tbody>\n",
       "    <tr>\n",
       "      <th>15045</th>\n",
       "      <td>0.000000</td>\n",
       "      <td>394.446783</td>\n",
       "      <td>369.344980</td>\n",
       "      <td>415.498394</td>\n",
       "      <td>405.717329</td>\n",
       "      <td>416.398833</td>\n",
       "      <td>327.607192</td>\n",
       "      <td>396.906008</td>\n",
       "      <td>402.130386</td>\n",
       "      <td>338.956347</td>\n",
       "      <td>...</td>\n",
       "      <td>758.314791</td>\n",
       "      <td>1094.227419</td>\n",
       "      <td>1612.461062</td>\n",
       "      <td>1580.235256</td>\n",
       "      <td>418.273895</td>\n",
       "      <td>477.545371</td>\n",
       "      <td>416.850996</td>\n",
       "      <td>414.529063</td>\n",
       "      <td>602.440602</td>\n",
       "      <td>1826.102682</td>\n",
       "    </tr>\n",
       "    <tr>\n",
       "      <th>202155</th>\n",
       "      <td>394.446783</td>\n",
       "      <td>0.000000</td>\n",
       "      <td>488.487761</td>\n",
       "      <td>481.948209</td>\n",
       "      <td>473.119120</td>\n",
       "      <td>488.918356</td>\n",
       "      <td>254.670213</td>\n",
       "      <td>266.004534</td>\n",
       "      <td>229.123836</td>\n",
       "      <td>230.285669</td>\n",
       "      <td>...</td>\n",
       "      <td>512.222091</td>\n",
       "      <td>1149.647135</td>\n",
       "      <td>1441.026749</td>\n",
       "      <td>1423.769622</td>\n",
       "      <td>25.215717</td>\n",
       "      <td>86.198112</td>\n",
       "      <td>23.910360</td>\n",
       "      <td>22.336580</td>\n",
       "      <td>551.170388</td>\n",
       "      <td>1710.941011</td>\n",
       "    </tr>\n",
       "    <tr>\n",
       "      <th>231836</th>\n",
       "      <td>369.344980</td>\n",
       "      <td>488.487761</td>\n",
       "      <td>0.000000</td>\n",
       "      <td>63.799725</td>\n",
       "      <td>59.352647</td>\n",
       "      <td>59.467244</td>\n",
       "      <td>238.534592</td>\n",
       "      <td>264.162698</td>\n",
       "      <td>302.926501</td>\n",
       "      <td>265.910588</td>\n",
       "      <td>...</td>\n",
       "      <td>987.051391</td>\n",
       "      <td>731.157973</td>\n",
       "      <td>1275.510194</td>\n",
       "      <td>1237.415296</td>\n",
       "      <td>510.807017</td>\n",
       "      <td>564.040181</td>\n",
       "      <td>509.896173</td>\n",
       "      <td>509.343973</td>\n",
       "      <td>923.811907</td>\n",
       "      <td>1466.898458</td>\n",
       "    </tr>\n",
       "    <tr>\n",
       "      <th>231837</th>\n",
       "      <td>415.498394</td>\n",
       "      <td>481.948209</td>\n",
       "      <td>63.799725</td>\n",
       "      <td>0.000000</td>\n",
       "      <td>10.416758</td>\n",
       "      <td>8.259847</td>\n",
       "      <td>227.280243</td>\n",
       "      <td>235.995957</td>\n",
       "      <td>276.849440</td>\n",
       "      <td>252.421888</td>\n",
       "      <td>...</td>\n",
       "      <td>989.240534</td>\n",
       "      <td>701.312974</td>\n",
       "      <td>1215.639197</td>\n",
       "      <td>1178.606829</td>\n",
       "      <td>502.583701</td>\n",
       "      <td>551.903110</td>\n",
       "      <td>501.817529</td>\n",
       "      <td>501.608391</td>\n",
       "      <td>947.169001</td>\n",
       "      <td>1413.186901</td>\n",
       "    </tr>\n",
       "    <tr>\n",
       "      <th>231838</th>\n",
       "      <td>405.717329</td>\n",
       "      <td>473.119120</td>\n",
       "      <td>59.352647</td>\n",
       "      <td>10.416758</td>\n",
       "      <td>0.000000</td>\n",
       "      <td>15.842945</td>\n",
       "      <td>218.506677</td>\n",
       "      <td>229.299570</td>\n",
       "      <td>269.964869</td>\n",
       "      <td>243.940034</td>\n",
       "      <td>...</td>\n",
       "      <td>979.872900</td>\n",
       "      <td>711.705392</td>\n",
       "      <td>1223.670245</td>\n",
       "      <td>1186.939027</td>\n",
       "      <td>493.921728</td>\n",
       "      <td>543.657139</td>\n",
       "      <td>493.141595</td>\n",
       "      <td>492.900629</td>\n",
       "      <td>936.816509</td>\n",
       "      <td>1422.467942</td>\n",
       "    </tr>\n",
       "  </tbody>\n",
       "</table>\n",
       "<p>5 rows × 1000 columns</p>\n",
       "</div>"
      ],
      "text/plain": [
       "FacilityID            15045       202155      231836      231837    \\\n",
       "Origin: FacilityID                                                   \n",
       "15045                 0.000000  394.446783  369.344980  415.498394   \n",
       "202155              394.446783    0.000000  488.487761  481.948209   \n",
       "231836              369.344980  488.487761    0.000000   63.799725   \n",
       "231837              415.498394  481.948209   63.799725    0.000000   \n",
       "231838              405.717329  473.119120   59.352647   10.416758   \n",
       "\n",
       "FacilityID            231838      231840      231848      231852    \\\n",
       "Origin: FacilityID                                                   \n",
       "15045               405.717329  416.398833  327.607192  396.906008   \n",
       "202155              473.119120  488.918356  254.670213  266.004534   \n",
       "231836               59.352647   59.467244  238.534592  264.162698   \n",
       "231837               10.416758    8.259847  227.280243  235.995957   \n",
       "231838                0.000000   15.842945  218.506677  229.299570   \n",
       "\n",
       "FacilityID            231862      231864    ...    10192122     10192127  \\\n",
       "Origin: FacilityID                          ...                            \n",
       "15045               402.130386  338.956347  ...  758.314791  1094.227419   \n",
       "202155              229.123836  230.285669  ...  512.222091  1149.647135   \n",
       "231836              302.926501  265.910588  ...  987.051391   731.157973   \n",
       "231837              276.849440  252.421888  ...  989.240534   701.312974   \n",
       "231838              269.964869  243.940034  ...  979.872900   711.705392   \n",
       "\n",
       "FacilityID             10203811     10207636    10214673    10214711  \\\n",
       "Origin: FacilityID                                                     \n",
       "15045               1612.461062  1580.235256  418.273895  477.545371   \n",
       "202155              1441.026749  1423.769622   25.215717   86.198112   \n",
       "231836              1275.510194  1237.415296  510.807017  564.040181   \n",
       "231837              1215.639197  1178.606829  502.583701  551.903110   \n",
       "231838              1223.670245  1186.939027  493.921728  543.657139   \n",
       "\n",
       "FacilityID            10214735    10214768    10220609     10224635  \n",
       "Origin: FacilityID                                                   \n",
       "15045               416.850996  414.529063  602.440602  1826.102682  \n",
       "202155               23.910360   22.336580  551.170388  1710.941011  \n",
       "231836              509.896173  509.343973  923.811907  1466.898458  \n",
       "231837              501.817529  501.608391  947.169001  1413.186901  \n",
       "231838              493.141595  492.900629  936.816509  1422.467942  \n",
       "\n",
       "[5 rows x 1000 columns]"
      ]
     },
     "execution_count": 12,
     "metadata": {},
     "output_type": "execute_result"
    }
   ],
   "source": [
    "distance_matrix.head()"
   ]
  },
  {
   "cell_type": "markdown",
   "id": "a6786364",
   "metadata": {},
   "source": [
    "# Run hierarchical clustering\n",
    "\n",
    "Read more here: https://docs.scipy.org/doc/scipy/reference/generated/scipy.cluster.hierarchy.linkage.html"
   ]
  },
  {
   "cell_type": "markdown",
   "id": "eb9f229c",
   "metadata": {},
   "source": [
    "## Convert into a condensed distance vector"
   ]
  },
  {
   "cell_type": "code",
   "execution_count": 13,
   "id": "85653aba",
   "metadata": {},
   "outputs": [
    {
     "data": {
      "text/plain": [
       "array([ 394.44678342,  369.34498031,  415.49839355, ...,  546.20294452,\n",
       "       1717.03789539, 2261.96034985])"
      ]
     },
     "execution_count": 13,
     "metadata": {},
     "output_type": "execute_result"
    }
   ],
   "source": [
    "distance_vector = sc.spatial.distance.squareform(distance_matrix)\n",
    "distance_vector"
   ]
  },
  {
   "cell_type": "markdown",
   "id": "39478762",
   "metadata": {},
   "source": [
    "## Run hierarchical clustering"
   ]
  },
  {
   "cell_type": "code",
   "execution_count": 14,
   "id": "f9ac7bef",
   "metadata": {},
   "outputs": [],
   "source": [
    "cluster_output = sc.cluster.hierarchy.linkage(distance_vector, method='centroid')"
   ]
  },
  {
   "cell_type": "markdown",
   "id": "4a23b137",
   "metadata": {},
   "source": [
    "# Examine cluster outputs"
   ]
  },
  {
   "cell_type": "markdown",
   "id": "f65badad",
   "metadata": {},
   "source": [
    "## Get cluster assignment for each item"
   ]
  },
  {
   "cell_type": "code",
   "execution_count": 25,
   "id": "1297c751",
   "metadata": {},
   "outputs": [],
   "source": [
    "cluster_assignment = sc.cluster.hierarchy.cut_tree(cluster_output, n_clusters=20, height=None)"
   ]
  },
  {
   "cell_type": "code",
   "execution_count": 26,
   "id": "ccbabc91",
   "metadata": {},
   "outputs": [
    {
     "data": {
      "text/html": [
       "<div>\n",
       "<style scoped>\n",
       "    .dataframe tbody tr th:only-of-type {\n",
       "        vertical-align: middle;\n",
       "    }\n",
       "\n",
       "    .dataframe tbody tr th {\n",
       "        vertical-align: top;\n",
       "    }\n",
       "\n",
       "    .dataframe thead th {\n",
       "        text-align: right;\n",
       "    }\n",
       "</style>\n",
       "<table border=\"1\" class=\"dataframe\">\n",
       "  <thead>\n",
       "    <tr style=\"text-align: right;\">\n",
       "      <th></th>\n",
       "      <th>FacilityID</th>\n",
       "      <th>Cluster</th>\n",
       "    </tr>\n",
       "  </thead>\n",
       "  <tbody>\n",
       "    <tr>\n",
       "      <th>0</th>\n",
       "      <td>15045</td>\n",
       "      <td>0</td>\n",
       "    </tr>\n",
       "    <tr>\n",
       "      <th>1</th>\n",
       "      <td>202155</td>\n",
       "      <td>1</td>\n",
       "    </tr>\n",
       "    <tr>\n",
       "      <th>2</th>\n",
       "      <td>231836</td>\n",
       "      <td>2</td>\n",
       "    </tr>\n",
       "    <tr>\n",
       "      <th>3</th>\n",
       "      <td>231837</td>\n",
       "      <td>2</td>\n",
       "    </tr>\n",
       "    <tr>\n",
       "      <th>4</th>\n",
       "      <td>231838</td>\n",
       "      <td>2</td>\n",
       "    </tr>\n",
       "  </tbody>\n",
       "</table>\n",
       "</div>"
      ],
      "text/plain": [
       "   FacilityID  Cluster\n",
       "0       15045        0\n",
       "1      202155        1\n",
       "2      231836        2\n",
       "3      231837        2\n",
       "4      231838        2"
      ]
     },
     "execution_count": 26,
     "metadata": {},
     "output_type": "execute_result"
    }
   ],
   "source": [
    "clusters_assigned = pd.DataFrame({\"FacilityID\": distance_matrix.index, \"Cluster\": [x[0] for x in cluster_assignment]})\n",
    "clusters_assigned.head()"
   ]
  },
  {
   "cell_type": "code",
   "execution_count": 27,
   "id": "511875da",
   "metadata": {
    "scrolled": true
   },
   "outputs": [
    {
     "data": {
      "text/plain": [
       "Cluster\n",
       "7     302\n",
       "1     179\n",
       "4     130\n",
       "5     106\n",
       "0     104\n",
       "6      67\n",
       "3      49\n",
       "8      27\n",
       "9      10\n",
       "2       9\n",
       "13      6\n",
       "10      5\n",
       "14      1\n",
       "15      1\n",
       "16      1\n",
       "17      1\n",
       "18      1\n",
       "19      1\n",
       "Name: count, dtype: int64"
      ]
     },
     "execution_count": 27,
     "metadata": {},
     "output_type": "execute_result"
    }
   ],
   "source": [
    "clusters_assigned['Cluster'].value_counts()"
   ]
  },
  {
   "cell_type": "markdown",
   "id": "e8b13a51",
   "metadata": {},
   "source": [
    "## Merge in the lat longs and names"
   ]
  },
  {
   "cell_type": "code",
   "execution_count": 28,
   "id": "f505beed",
   "metadata": {},
   "outputs": [],
   "source": [
    "full_clusters = clusters_assigned.merge(dataset, on = 'FacilityID', how='left')"
   ]
  },
  {
   "cell_type": "code",
   "execution_count": 29,
   "id": "951692d5",
   "metadata": {},
   "outputs": [
    {
     "data": {
      "text/html": [
       "<div>\n",
       "<style scoped>\n",
       "    .dataframe tbody tr th:only-of-type {\n",
       "        vertical-align: middle;\n",
       "    }\n",
       "\n",
       "    .dataframe tbody tr th {\n",
       "        vertical-align: top;\n",
       "    }\n",
       "\n",
       "    .dataframe thead th {\n",
       "        text-align: right;\n",
       "    }\n",
       "</style>\n",
       "<table border=\"1\" class=\"dataframe\">\n",
       "  <thead>\n",
       "    <tr style=\"text-align: right;\">\n",
       "      <th></th>\n",
       "      <th>FacilityID</th>\n",
       "      <th>Cluster</th>\n",
       "      <th>CampsiteName</th>\n",
       "      <th>CampsiteLongitude</th>\n",
       "      <th>CampsiteLatitude</th>\n",
       "    </tr>\n",
       "  </thead>\n",
       "  <tbody>\n",
       "    <tr>\n",
       "      <th>0</th>\n",
       "      <td>15045</td>\n",
       "      <td>0</td>\n",
       "      <td>A-1</td>\n",
       "      <td>-111.853544</td>\n",
       "      <td>43.961886</td>\n",
       "    </tr>\n",
       "    <tr>\n",
       "      <th>1</th>\n",
       "      <td>202155</td>\n",
       "      <td>1</td>\n",
       "      <td>Hunter Canyon Group Site</td>\n",
       "      <td>-109.597027</td>\n",
       "      <td>38.510336</td>\n",
       "    </tr>\n",
       "    <tr>\n",
       "      <th>2</th>\n",
       "      <td>231836</td>\n",
       "      <td>2</td>\n",
       "      <td>24</td>\n",
       "      <td>-104.423472</td>\n",
       "      <td>44.426862</td>\n",
       "    </tr>\n",
       "    <tr>\n",
       "      <th>3</th>\n",
       "      <td>231837</td>\n",
       "      <td>2</td>\n",
       "      <td>5</td>\n",
       "      <td>-103.512620</td>\n",
       "      <td>43.775080</td>\n",
       "    </tr>\n",
       "    <tr>\n",
       "      <th>4</th>\n",
       "      <td>231838</td>\n",
       "      <td>2</td>\n",
       "      <td>3</td>\n",
       "      <td>-103.713975</td>\n",
       "      <td>43.735366</td>\n",
       "    </tr>\n",
       "    <tr>\n",
       "      <th>...</th>\n",
       "      <td>...</td>\n",
       "      <td>...</td>\n",
       "      <td>...</td>\n",
       "      <td>...</td>\n",
       "      <td>...</td>\n",
       "    </tr>\n",
       "    <tr>\n",
       "      <th>995</th>\n",
       "      <td>10214711</td>\n",
       "      <td>1</td>\n",
       "      <td>1</td>\n",
       "      <td>-109.608969</td>\n",
       "      <td>37.262811</td>\n",
       "    </tr>\n",
       "    <tr>\n",
       "      <th>996</th>\n",
       "      <td>10214735</td>\n",
       "      <td>1</td>\n",
       "      <td>1</td>\n",
       "      <td>-109.631466</td>\n",
       "      <td>38.165333</td>\n",
       "    </tr>\n",
       "    <tr>\n",
       "      <th>997</th>\n",
       "      <td>10214768</td>\n",
       "      <td>1</td>\n",
       "      <td>1</td>\n",
       "      <td>-109.669222</td>\n",
       "      <td>38.192051</td>\n",
       "    </tr>\n",
       "    <tr>\n",
       "      <th>998</th>\n",
       "      <td>10220609</td>\n",
       "      <td>7</td>\n",
       "      <td>HORSE #1 (HORSES ARE MANDATORY)</td>\n",
       "      <td>-119.653589</td>\n",
       "      <td>37.539277</td>\n",
       "    </tr>\n",
       "    <tr>\n",
       "      <th>999</th>\n",
       "      <td>10224635</td>\n",
       "      <td>7</td>\n",
       "      <td>Old Picnic Area</td>\n",
       "      <td>-78.303329</td>\n",
       "      <td>36.599438</td>\n",
       "    </tr>\n",
       "  </tbody>\n",
       "</table>\n",
       "<p>1000 rows × 5 columns</p>\n",
       "</div>"
      ],
      "text/plain": [
       "     FacilityID  Cluster                     CampsiteName  CampsiteLongitude  \\\n",
       "0         15045        0                              A-1        -111.853544   \n",
       "1        202155        1         Hunter Canyon Group Site        -109.597027   \n",
       "2        231836        2                               24        -104.423472   \n",
       "3        231837        2                                5        -103.512620   \n",
       "4        231838        2                                3        -103.713975   \n",
       "..          ...      ...                              ...                ...   \n",
       "995    10214711        1                                1        -109.608969   \n",
       "996    10214735        1                                1        -109.631466   \n",
       "997    10214768        1                                1        -109.669222   \n",
       "998    10220609        7  HORSE #1 (HORSES ARE MANDATORY)        -119.653589   \n",
       "999    10224635        7                  Old Picnic Area         -78.303329   \n",
       "\n",
       "     CampsiteLatitude  \n",
       "0           43.961886  \n",
       "1           38.510336  \n",
       "2           44.426862  \n",
       "3           43.775080  \n",
       "4           43.735366  \n",
       "..                ...  \n",
       "995         37.262811  \n",
       "996         38.165333  \n",
       "997         38.192051  \n",
       "998         37.539277  \n",
       "999         36.599438  \n",
       "\n",
       "[1000 rows x 5 columns]"
      ]
     },
     "execution_count": 29,
     "metadata": {},
     "output_type": "execute_result"
    }
   ],
   "source": [
    "full_clusters"
   ]
  },
  {
   "cell_type": "markdown",
   "id": "25b5cdc3",
   "metadata": {},
   "source": [
    "## Plot on a grid"
   ]
  },
  {
   "cell_type": "code",
   "execution_count": 37,
   "id": "ff1e8b45",
   "metadata": {},
   "outputs": [
    {
     "data": {
      "image/png": "[encoded data removed]",
      "text/plain": [
       "<Figure size 640x480 with 1 Axes>"
      ]
     },
     "metadata": {},
     "output_type": "display_data"
    }
   ],
   "source": [
    "plt.scatter(full_clusters['CampsiteLongitude'], full_clusters['CampsiteLatitude'], c=full_clusters['Cluster'], \n",
    "            s = 5, # Size of scatter \n",
    "            alpha=0.7, # Transparency\n",
    "            cmap = plt.colormaps.get_cmap('tab10') # Get more distinct colors. This cycles between 10 colors\n",
    "           ) \n",
    "            \n",
    "plt.xlim(-150, -50)  # Set x-axis limits\n",
    "plt.ylim(20, 65)  # Set y-axis limits\n",
    "plt.show()"
   ]
  },
  {
   "cell_type": "markdown",
   "id": "7f559cda",
   "metadata": {},
   "source": [
    "## Plot on a map\n",
    "\n",
    "You need mpl_toolkits to plot the map"
   ]
  },
  {
   "cell_type": "code",
   "execution_count": 31,
   "id": "fdd8bed7",
   "metadata": {},
   "outputs": [],
   "source": [
    "from mpl_toolkits.basemap import Basemap"
   ]
  },
  {
   "cell_type": "code",
   "execution_count": 36,
   "id": "ed1b097c",
   "metadata": {},
   "outputs": [
    {
     "data": {
      "image/png": "[encoded data removed]",
      "text/plain": [
       "<Figure size 640x480 with 1 Axes>"
      ]
     },
     "metadata": {},
     "output_type": "display_data"
    }
   ],
   "source": [
    "# Create a basemap instance for the United States\n",
    "map = Basemap(llcrnrlon=-125, llcrnrlat=24, urcrnrlon=-66, urcrnrlat=50, projection='lcc', lat_1=33, lat_2=45, lon_0=-95)\n",
    "\n",
    "# Draw the map boundaries\n",
    "map.drawcoastlines()\n",
    "map.drawcountries()\n",
    "map.fillcontinents(color='lightgray')\n",
    "\n",
    "# Convert longitude and latitude to map coordinates\n",
    "x, y = map(full_clusters['CampsiteLongitude'], full_clusters['CampsiteLatitude'])\n",
    "\n",
    "# Scatter plot the data with color\n",
    "map.scatter(x, y, c=full_clusters['Cluster'], s=1, alpha=0.7, \n",
    "            cmap = plt.colormaps.get_cmap('tab10')  # Get more distinct colors\n",
    "           )\n",
    "\n",
    "plt.show()"
   ]
  },
  {
   "cell_type": "code",
   "execution_count": null,
   "id": "2358ff60",
   "metadata": {},
   "outputs": [],
   "source": []
  }
 ],
 "metadata": {
  "kernelspec": {
   "display_name": "Python 3 (ipykernel)",
   "language": "python",
   "name": "python3"
  },
  "language_info": {
   "codemirror_mode": {
    "name": "ipython",
    "version": 3
   },
   "file_extension": ".py",
   "mimetype": "text/x-python",
   "name": "python",
   "nbconvert_exporter": "python",
   "pygments_lexer": "ipython3",
   "version": "3.9.5"
  },
  "toc": {
   "base_numbering": 1,
   "nav_menu": {},
   "number_sections": true,
   "sideBar": true,
   "skip_h1_title": false,
   "title_cell": "Table of Contents",
   "title_sidebar": "Contents",
   "toc_cell": false,
   "toc_position": {
    "height": "calc(100% - 180px)",
    "left": "10px",
    "top": "150px",
    "width": "409.6px"
   },
   "toc_section_display": true,
   "toc_window_display": true
  }
 },
 "nbformat": 4,
 "nbformat_minor": 5
}
